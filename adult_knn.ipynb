{
 "cells": [
  {
   "cell_type": "markdown",
   "source": [
    "# Setup and Imports\r\n",
    "## Setup environment and import libraries."
   ],
   "metadata": {}
  },
  {
   "cell_type": "code",
   "execution_count": null,
   "source": [
    "'''\r\n",
    "University: University of São Paulo (USP)\r\n",
    "Class: PMR3508 (2021)\r\n",
    "'''\r\n",
    "import sys\r\n",
    "\r\n",
    "try:\r\n",
    "    sys.path.remove('C:/Python36/Lib/site-packages')\r\n",
    "except:\r\n",
    "    print(\"Already ok\")\r\n",
    "    pass\r\n",
    "\r\n",
    "import numpy as np \r\n",
    "import pandas as pd\r\n",
    "import matplotlib.pyplot as plt\r\n",
    "%matplotlib inline\r\n",
    "import seaborn as sns\r\n",
    "sns.set()\r\n",
    "import sklearn as sk\r\n",
    "from sklearn.neighbors import KNeighborsClassifier\r\n",
    "from sklearn.model_selection import cross_val_score\r\n",
    "from sklearn.metrics import accuracy_score\r\n",
    "from sklearn import preprocessing\r\n",
    "\r\n",
    "adult_train = pd.read_csv(\r\n",
    "    \"C:/Users/bruno/Desktop/kaggle-adult-comp-knn/data/train_data.csv\",\r\n",
    "    names=[\r\n",
    "        \"Age\", \"Workclass\", \"fnlwgt\", \"Education\", \"Education-Num\", \"Martial Status\",\r\n",
    "        \"Occupation\", \"Relationship\", \"Race\", \"Sex\", \"Capital Gain\", \"Capital Loss\",\r\n",
    "        \"Hours per week\", \"Country\", \"Target\"\r\n",
    "    ],\r\n",
    "    sep=r'\\s*,\\s*',\r\n",
    "    engine='python',\r\n",
    "    na_values=\"?\"\r\n",
    ")\r\n",
    "\r\n",
    "adult_test = pd.read_csv(\r\n",
    "    \"C:/Users/bruno/Desktop/kaggle-adult-comp-knn/data/test_data.csv\",\r\n",
    "    names=[\r\n",
    "        \"Age\", \"Workclass\", \"fnlwgt\", \"Education\", \"Education-Num\", \"Martial Status\",\r\n",
    "        \"Occupation\", \"Relationship\", \"Race\", \"Sex\", \"Capital Gain\", \"Capital Loss\",\r\n",
    "        \"Hours per week\", \"Country\"\r\n",
    "    ],\r\n",
    "    sep=r'\\s*,\\s*',\r\n",
    "    engine='python',\r\n",
    "    na_values=\"?\"\r\n",
    ")\r\n",
    "\r\n",
    "print(\"#### TRAIN DATASET ####\")\r\n",
    "print('shape: ', adult_train.shape)\r\n",
    "print('data types: ', adult_train.dtypes)\r\n",
    "print(adult_train.head())\r\n",
    "print('Number of null entries: ', adult_train.isnull().sum())\r\n",
    "print('Duplicated data points: 'adult_train.duplicated().any())\r\n",
    "\r\n",
    "print(\"#### TEST DATASET ####\")\r\n",
    "print('shape: ', adult_test.shape)\r\n",
    "print('data types: ', adult_test.dtypes)\r\n",
    "print(adult_test.head())\r\n",
    "print('Number of null entries: ', adult_test.isnull().sum())\r\n",
    "print('Duplicated data points: 'adult_test.duplicated().any())"
   ],
   "outputs": [],
   "metadata": {}
  },
  {
   "cell_type": "markdown",
   "source": [
    "# EDA (Exploratory Data Analysis)\r\n",
    "## Get to know data and draw insights on the problem of classifying income as > 50K."
   ],
   "metadata": {}
  },
  {
   "cell_type": "code",
   "execution_count": null,
   "source": [
    "## Summary statistics"
   ],
   "outputs": [],
   "metadata": {}
  },
  {
   "cell_type": "code",
   "execution_count": null,
   "source": [
    "## Plot histogram for target"
   ],
   "outputs": [],
   "metadata": {}
  },
  {
   "cell_type": "code",
   "execution_count": null,
   "source": [
    "## Plot empirical distribution of each feature"
   ],
   "outputs": [],
   "metadata": {}
  },
  {
   "cell_type": "code",
   "execution_count": null,
   "source": [
    "### Histogram: (.value_counts().plot(kind=\"bar\"))"
   ],
   "outputs": [],
   "metadata": {}
  },
  {
   "cell_type": "code",
   "execution_count": null,
   "source": [
    "### Density plot, boxplot"
   ],
   "outputs": [],
   "metadata": {}
  },
  {
   "cell_type": "code",
   "execution_count": null,
   "source": [
    "## Simple plots of target x features ()"
   ],
   "outputs": [],
   "metadata": {}
  },
  {
   "cell_type": "code",
   "execution_count": null,
   "source": [
    "## Pairwise plots (scatter plots with target value as third variable)"
   ],
   "outputs": [],
   "metadata": {}
  },
  {
   "cell_type": "code",
   "execution_count": null,
   "source": [
    "## Correlation plots (heatmap)"
   ],
   "outputs": [],
   "metadata": {}
  },
  {
   "cell_type": "markdown",
   "source": [
    "# Data Engineering (mirror on test dataset)\r\n",
    "## Prepare data for algorithm."
   ],
   "metadata": {}
  },
  {
   "cell_type": "code",
   "execution_count": null,
   "source": [
    "## Ensure features have the appropriate datatypes "
   ],
   "outputs": [],
   "metadata": {}
  },
  {
   "cell_type": "code",
   "execution_count": null,
   "source": [
    "## Treat missing values"
   ],
   "outputs": [],
   "metadata": {}
  },
  {
   "cell_type": "code",
   "execution_count": null,
   "source": [
    "## Treat outliers"
   ],
   "outputs": [],
   "metadata": {}
  },
  {
   "cell_type": "code",
   "execution_count": null,
   "source": [
    "## Treat categorical features (onde-hot, mean-encod, etc) and binary output (std label encod)"
   ],
   "outputs": [],
   "metadata": {}
  },
  {
   "cell_type": "code",
   "execution_count": null,
   "source": [
    "## Normalize features"
   ],
   "outputs": [],
   "metadata": {}
  },
  {
   "cell_type": "code",
   "execution_count": null,
   "source": [
    "## Maybe apply tranformations (e.g log transform)"
   ],
   "outputs": [],
   "metadata": {}
  },
  {
   "cell_type": "markdown",
   "source": [
    "# Feature Engineering (mirror on test dataset)\r\n",
    "## Select and/or create new features."
   ],
   "metadata": {}
  },
  {
   "cell_type": "markdown",
   "source": [
    "## Select features"
   ],
   "metadata": {}
  },
  {
   "cell_type": "code",
   "execution_count": null,
   "source": [
    "### PCA"
   ],
   "outputs": [],
   "metadata": {}
  },
  {
   "cell_type": "code",
   "execution_count": null,
   "source": [
    "### By hand"
   ],
   "outputs": [],
   "metadata": {}
  },
  {
   "cell_type": "markdown",
   "source": [
    "## Create new features"
   ],
   "metadata": {}
  },
  {
   "cell_type": "code",
   "execution_count": null,
   "source": [
    "### Clustering"
   ],
   "outputs": [],
   "metadata": {}
  },
  {
   "cell_type": "code",
   "execution_count": null,
   "source": [
    "### By hand"
   ],
   "outputs": [],
   "metadata": {}
  },
  {
   "cell_type": "markdown",
   "source": [
    "# Experiments\r\n",
    "## Train on different datasets try different hyperparameters for KNN."
   ],
   "metadata": {}
  },
  {
   "cell_type": "code",
   "execution_count": null,
   "source": [
    "## Baseline (default)"
   ],
   "outputs": [],
   "metadata": {}
  },
  {
   "cell_type": "code",
   "execution_count": null,
   "source": [
    "## Different features"
   ],
   "outputs": [],
   "metadata": {}
  },
  {
   "cell_type": "code",
   "execution_count": null,
   "source": [
    "## Different n size"
   ],
   "outputs": [],
   "metadata": {}
  },
  {
   "cell_type": "code",
   "execution_count": null,
   "source": [
    "## Different distance metric"
   ],
   "outputs": [],
   "metadata": {}
  },
  {
   "cell_type": "markdown",
   "source": [
    "# Final Model\r\n",
    "## Trained on entire train dataset."
   ],
   "metadata": {}
  },
  {
   "cell_type": "code",
   "execution_count": null,
   "source": [],
   "outputs": [],
   "metadata": {}
  },
  {
   "cell_type": "markdown",
   "source": [
    "# Submission\r\n",
    "## Save to \"submission.csv\"."
   ],
   "metadata": {}
  },
  {
   "cell_type": "code",
   "execution_count": null,
   "source": [],
   "outputs": [],
   "metadata": {}
  }
 ],
 "metadata": {
  "orig_nbformat": 4,
  "language_info": {
   "name": "python",
   "version": "3.8.8"
  },
  "kernelspec": {
   "name": "python3",
   "display_name": "Python 3.8.8 64-bit"
  },
  "interpreter": {
   "hash": "66d7c0815ee3ec39f8a25542b36e8def4dce34ad6588e623c666e441b334d01c"
  }
 },
 "nbformat": 4,
 "nbformat_minor": 2
}